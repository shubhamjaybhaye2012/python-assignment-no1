{
  "nbformat": 4,
  "nbformat_minor": 0,
  "metadata": {
    "colab": {
      "provenance": [],
      "authorship_tag": "ABX9TyNw+99eviem1yhWCvidl/3/",
      "include_colab_link": true
    },
    "kernelspec": {
      "name": "python3",
      "display_name": "Python 3"
    },
    "language_info": {
      "name": "python"
    }
  },
  "cells": [
    {
      "cell_type": "markdown",
      "metadata": {
        "id": "view-in-github",
        "colab_type": "text"
      },
      "source": [
        "<a href=\"https://colab.research.google.com/github/shubhamjaybhaye2012/python-assignment-no1/blob/main/Python_class_1_practice.ipynb\" target=\"_parent\"><img src=\"https://colab.research.google.com/assets/colab-badge.svg\" alt=\"Open In Colab\"/></a>"
      ]
    },
    {
      "cell_type": "markdown",
      "source": [
        "#print statement"
      ],
      "metadata": {
        "id": "vrsE4iCsWNIg"
      }
    },
    {
      "cell_type": "code",
      "source": [
        "print(\"hello python\")"
      ],
      "metadata": {
        "colab": {
          "base_uri": "https://localhost:8080/"
        },
        "id": "pG__M7v-WbyN",
        "outputId": "0c3bf2f9-de9c-4469-aad6-dbafa5aa0724"
      },
      "execution_count": 9,
      "outputs": [
        {
          "output_type": "stream",
          "name": "stdout",
          "text": [
            "hello python\n"
          ]
        }
      ]
    },
    {
      "cell_type": "code",
      "source": [
        "input('name') \n",
        "print(\"input\")"
      ],
      "metadata": {
        "colab": {
          "base_uri": "https://localhost:8080/",
          "height": 183
        },
        "id": "rQ5F9vNfY84j",
        "outputId": "fa260961-d235-4464-91c5-ce166e01dcca"
      },
      "execution_count": 38,
      "outputs": [
        {
          "output_type": "error",
          "ename": "TypeError",
          "evalue": "ignored",
          "traceback": [
            "\u001b[0;31m---------------------------------------------------------------------------\u001b[0m",
            "\u001b[0;31mTypeError\u001b[0m                                 Traceback (most recent call last)",
            "\u001b[0;32m<ipython-input-38-2e90e5a8147e>\u001b[0m in \u001b[0;36m<module>\u001b[0;34m\u001b[0m\n\u001b[0;32m----> 1\u001b[0;31m \u001b[0minput\u001b[0m\u001b[0;34m(\u001b[0m\u001b[0;34m'name'\u001b[0m\u001b[0;34m)\u001b[0m\u001b[0;34m\u001b[0m\u001b[0;34m\u001b[0m\u001b[0m\n\u001b[0m\u001b[1;32m      2\u001b[0m \u001b[0mprint\u001b[0m\u001b[0;34m(\u001b[0m\u001b[0;34m\"input\"\u001b[0m\u001b[0;34m)\u001b[0m\u001b[0;34m\u001b[0m\u001b[0;34m\u001b[0m\u001b[0m\n",
            "\u001b[0;31mTypeError\u001b[0m: 'str' object is not callable"
          ]
        }
      ]
    },
    {
      "cell_type": "code",
      "source": [
        "NAME , SURNAME,= 'SHUBHAM' ,'JAYBHAYE'"
      ],
      "metadata": {
        "id": "NLSPOv_YDoj4"
      },
      "execution_count": 11,
      "outputs": []
    },
    {
      "cell_type": "code",
      "source": [
        "print(f'{NAME}.{SURNAME}@GMAIL.COM')"
      ],
      "metadata": {
        "colab": {
          "base_uri": "https://localhost:8080/"
        },
        "id": "NHIwfor4Dzwz",
        "outputId": "5f38ee5e-61dc-40be-b6be-f1746b150249"
      },
      "execution_count": 12,
      "outputs": [
        {
          "output_type": "stream",
          "name": "stdout",
          "text": [
            "SHUBHAM.JAYBHAYE@GMAIL.COM\n"
          ]
        }
      ]
    },
    {
      "cell_type": "markdown",
      "source": [
        "Hi I'm Sunny\n",
        "My address is 22\\3\n",
        "I earn 20$ daily.\n"
      ],
      "metadata": {
        "id": "osDvUxP2E9-8"
      }
    },
    {
      "cell_type": "markdown",
      "source": [
        "Hi i'm Sunny"
      ],
      "metadata": {
        "id": "BfLvyzlCE2mJ"
      }
    },
    {
      "cell_type": "code",
      "source": [
        "print(\"I earn 20$ daily.\")"
      ],
      "metadata": {
        "colab": {
          "base_uri": "https://localhost:8080/"
        },
        "id": "AFLB98qvEL5Q",
        "outputId": "1e69178a-b1b4-4c76-f34f-7ff3b76e3e45"
      },
      "execution_count": 13,
      "outputs": [
        {
          "output_type": "stream",
          "name": "stdout",
          "text": [
            "I earn 20$ daily.\n"
          ]
        }
      ]
    },
    {
      "cell_type": "markdown",
      "source": [
        "#shift+enter"
      ],
      "metadata": {
        "id": "9Ti1stwIcciK"
      }
    },
    {
      "cell_type": "code",
      "source": [
        "55+89"
      ],
      "metadata": {
        "colab": {
          "base_uri": "https://localhost:8080/"
        },
        "id": "vsCHE0cCckPw",
        "outputId": "dd2966c3-dde9-4684-cebb-e211a0612521"
      },
      "execution_count": 40,
      "outputs": [
        {
          "output_type": "execute_result",
          "data": {
            "text/plain": [
              "144"
            ]
          },
          "metadata": {},
          "execution_count": 40
        }
      ]
    },
    {
      "cell_type": "code",
      "source": [
        "55*75"
      ],
      "metadata": {
        "colab": {
          "base_uri": "https://localhost:8080/"
        },
        "id": "OENYYWfmcmZS",
        "outputId": "31b6debd-1d48-4c74-c57d-e24f1a751d72"
      },
      "execution_count": 41,
      "outputs": [
        {
          "output_type": "execute_result",
          "data": {
            "text/plain": [
              "4125"
            ]
          },
          "metadata": {},
          "execution_count": 41
        }
      ]
    },
    {
      "cell_type": "code",
      "source": [
        "2**100"
      ],
      "metadata": {
        "colab": {
          "base_uri": "https://localhost:8080/"
        },
        "id": "UDyDAQ-2c0E5",
        "outputId": "4ce7f8b0-1fdf-4874-fdb9-88d21e9cf670"
      },
      "execution_count": 46,
      "outputs": [
        {
          "output_type": "execute_result",
          "data": {
            "text/plain": [
              "7.888609052210118e-31"
            ]
          },
          "metadata": {},
          "execution_count": 46
        }
      ]
    },
    {
      "cell_type": "code",
      "source": [
        "79%2"
      ],
      "metadata": {
        "colab": {
          "base_uri": "https://localhost:8080/"
        },
        "id": "RmMoihsedQWu",
        "outputId": "eeaff056-af6a-4249-c09c-ca84905a70f2"
      },
      "execution_count": 49,
      "outputs": [
        {
          "output_type": "execute_result",
          "data": {
            "text/plain": [
              "1"
            ]
          },
          "metadata": {},
          "execution_count": 49
        }
      ]
    },
    {
      "cell_type": "code",
      "source": [],
      "metadata": {
        "id": "xAJdqtUGdEG8"
      },
      "execution_count": null,
      "outputs": []
    },
    {
      "cell_type": "markdown",
      "source": [
        "#variables\n",
        "1.Variable names should start with alphabets"
      ],
      "metadata": {
        "id": "iNNrkQi_eXCX"
      }
    },
    {
      "cell_type": "markdown",
      "source": [
        "2. Variable names should not contain any special characters like ^ % $ ! @ # ^ & * ( )\n",
        "3.Variable names can contain numbers but you can't start with numbers\n",
        "4.Its not a strict rule that you should variable names with a Captial letter. \n",
        "5.But its recommended to use small letters for the variables.\n"
      ],
      "metadata": {
        "id": "pt4fZT8YJNLG"
      }
    },
    {
      "cell_type": "code",
      "source": [
        "s=5"
      ],
      "metadata": {
        "id": "q3ag3nr2ixYN"
      },
      "execution_count": 51,
      "outputs": []
    },
    {
      "cell_type": "code",
      "source": [
        "print(s)"
      ],
      "metadata": {
        "colab": {
          "base_uri": "https://localhost:8080/"
        },
        "id": "Z_SB-bHSi0xU",
        "outputId": "6112fb7c-4744-4b98-d021-8cc1827f2a87"
      },
      "execution_count": 54,
      "outputs": [
        {
          "output_type": "stream",
          "name": "stdout",
          "text": [
            "5\n"
          ]
        }
      ]
    },
    {
      "cell_type": "code",
      "source": [
        "g=6"
      ],
      "metadata": {
        "id": "Wh4rj9kXi-Bc"
      },
      "execution_count": 56,
      "outputs": []
    },
    {
      "cell_type": "code",
      "source": [
        "print(g+s)"
      ],
      "metadata": {
        "colab": {
          "base_uri": "https://localhost:8080/"
        },
        "id": "md7WPxRPjCns",
        "outputId": "4470dfb1-f160-449a-9be5-b4e2daa74d18"
      },
      "execution_count": 57,
      "outputs": [
        {
          "output_type": "stream",
          "name": "stdout",
          "text": [
            "11\n"
          ]
        }
      ]
    },
    {
      "cell_type": "markdown",
      "source": [
        "#Fundamental data types"
      ],
      "metadata": {
        "id": "j2-5YjzVj47d"
      }
    },
    {
      "cell_type": "markdown",
      "source": [
        "integers"
      ],
      "metadata": {
        "id": "oADE7EbIkCng"
      }
    },
    {
      "cell_type": "code",
      "source": [
        "l=89"
      ],
      "metadata": {
        "id": "OkseOJSKj_tX"
      },
      "execution_count": 58,
      "outputs": []
    },
    {
      "cell_type": "code",
      "source": [
        "type(l)"
      ],
      "metadata": {
        "colab": {
          "base_uri": "https://localhost:8080/"
        },
        "id": "t4KmPd1ckMCy",
        "outputId": "165ee4ed-1b34-4ede-cb92-2498714001bd"
      },
      "execution_count": 59,
      "outputs": [
        {
          "output_type": "execute_result",
          "data": {
            "text/plain": [
              "int"
            ]
          },
          "metadata": {},
          "execution_count": 59
        }
      ]
    },
    {
      "cell_type": "markdown",
      "source": [
        "float"
      ],
      "metadata": {
        "id": "gDQBYZ53kURA"
      }
    },
    {
      "cell_type": "code",
      "source": [
        "e=5.6"
      ],
      "metadata": {
        "id": "RH5xfanwkZzh"
      },
      "execution_count": 62,
      "outputs": []
    },
    {
      "cell_type": "code",
      "source": [
        "type(e)"
      ],
      "metadata": {
        "colab": {
          "base_uri": "https://localhost:8080/"
        },
        "id": "KKqJorWEkgcR",
        "outputId": "7dc07198-e74d-4b50-dce8-7d335271f453"
      },
      "execution_count": 64,
      "outputs": [
        {
          "output_type": "execute_result",
          "data": {
            "text/plain": [
              "float"
            ]
          },
          "metadata": {},
          "execution_count": 64
        }
      ]
    },
    {
      "cell_type": "markdown",
      "source": [
        "complex no"
      ],
      "metadata": {
        "id": "p8LK37DUkmbh"
      }
    },
    {
      "cell_type": "code",
      "source": [
        "2+6j"
      ],
      "metadata": {
        "colab": {
          "base_uri": "https://localhost:8080/"
        },
        "id": "jZnen-l5ksTp",
        "outputId": "e03d1ada-ad7d-4482-81ca-63f91356b303"
      },
      "execution_count": 66,
      "outputs": [
        {
          "output_type": "execute_result",
          "data": {
            "text/plain": [
              "(2+6j)"
            ]
          },
          "metadata": {},
          "execution_count": 66
        }
      ]
    },
    {
      "cell_type": "code",
      "source": [
        "type(2+6j)"
      ],
      "metadata": {
        "colab": {
          "base_uri": "https://localhost:8080/"
        },
        "id": "KI1DDEgdkysn",
        "outputId": "8e45df29-3a40-4ae3-fc59-4add06d55578"
      },
      "execution_count": 67,
      "outputs": [
        {
          "output_type": "execute_result",
          "data": {
            "text/plain": [
              "complex"
            ]
          },
          "metadata": {},
          "execution_count": 67
        }
      ]
    },
    {
      "cell_type": "code",
      "source": [
        "type(2)"
      ],
      "metadata": {
        "colab": {
          "base_uri": "https://localhost:8080/"
        },
        "id": "lRl-gy6Jk7tZ",
        "outputId": "2a22dc16-6429-4ac8-b37d-59af81df2388"
      },
      "execution_count": 68,
      "outputs": [
        {
          "output_type": "execute_result",
          "data": {
            "text/plain": [
              "int"
            ]
          },
          "metadata": {},
          "execution_count": 68
        }
      ]
    },
    {
      "cell_type": "code",
      "source": [
        "type(6j)"
      ],
      "metadata": {
        "colab": {
          "base_uri": "https://localhost:8080/"
        },
        "id": "Gk9DKprok-ln",
        "outputId": "9553bdf8-8723-4a0d-de35-e5793044a721"
      },
      "execution_count": 70,
      "outputs": [
        {
          "output_type": "execute_result",
          "data": {
            "text/plain": [
              "complex"
            ]
          },
          "metadata": {},
          "execution_count": 70
        }
      ]
    },
    {
      "cell_type": "markdown",
      "source": [
        "Dynamic typing"
      ],
      "metadata": {
        "id": "aoXEPw1glEdq"
      }
    },
    {
      "cell_type": "code",
      "source": [
        "a = 22\n",
        "type(a)\n",
        "a = 22.2\n",
        "type(a)"
      ],
      "metadata": {
        "colab": {
          "base_uri": "https://localhost:8080/"
        },
        "id": "OQ-179nclQbQ",
        "outputId": "576f048e-9f5d-41db-aa9f-59976b3ca72b"
      },
      "execution_count": 71,
      "outputs": [
        {
          "output_type": "execute_result",
          "data": {
            "text/plain": [
              "float"
            ]
          },
          "metadata": {},
          "execution_count": 71
        }
      ]
    },
    {
      "cell_type": "code",
      "source": [
        "o=99\n",
        "print(type(o))\n",
        "h='shubham'\n",
        "print(type(h))\n",
        "j=.3\n",
        "print(type(j))\n"
      ],
      "metadata": {
        "colab": {
          "base_uri": "https://localhost:8080/"
        },
        "id": "ltneoZr_laV5",
        "outputId": "c97dd141-c344-4d33-bd93-07da22353653"
      },
      "execution_count": 72,
      "outputs": [
        {
          "output_type": "stream",
          "name": "stdout",
          "text": [
            "<class 'int'>\n",
            "<class 'str'>\n",
            "<class 'float'>\n"
          ]
        }
      ]
    },
    {
      "cell_type": "markdown",
      "source": [
        "strong typing"
      ],
      "metadata": {
        "id": "SnKZUk9pmjND"
      }
    },
    {
      "cell_type": "code",
      "source": [
        "#f:used as formatted string method\n",
        "name=\"aurangabad\"\n",
        "print(f\"i live in {name} city.\" )\n"
      ],
      "metadata": {
        "colab": {
          "base_uri": "https://localhost:8080/"
        },
        "id": "S7RNvobdmlCt",
        "outputId": "ccccbe30-5978-4477-ae44-3cbcfb133192"
      },
      "execution_count": 78,
      "outputs": [
        {
          "output_type": "stream",
          "name": "stdout",
          "text": [
            "i live in aurangabad city.\n"
          ]
        }
      ]
    },
    {
      "cell_type": "markdown",
      "source": [
        " boolean data type"
      ],
      "metadata": {
        "id": "UtBiLqFroPcj"
      }
    },
    {
      "cell_type": "code",
      "source": [
        "Q= True\n",
        "S=False"
      ],
      "metadata": {
        "id": "p1-6n0Auq6dg"
      },
      "execution_count": 87,
      "outputs": []
    },
    {
      "cell_type": "code",
      "source": [
        "print(type(Q))\n",
        "print(type(S))"
      ],
      "metadata": {
        "colab": {
          "base_uri": "https://localhost:8080/"
        },
        "id": "tDpj5iKwragv",
        "outputId": "559e3c86-ab73-4b49-a1be-d40fcd3a55ee"
      },
      "execution_count": 95,
      "outputs": [
        {
          "output_type": "stream",
          "name": "stdout",
          "text": [
            "<class 'bool'>\n",
            "<class 'bool'>\n"
          ]
        }
      ]
    },
    {
      "cell_type": "code",
      "source": [
        "dinner_started_at=8\n",
        "you_came_at=7\n",
        "had_you_eaten= you_came_at < dinner_started_at\n",
        "print(f\"hadyou eaten ?:{had_you_eaten}\")"
      ],
      "metadata": {
        "colab": {
          "base_uri": "https://localhost:8080/"
        },
        "id": "7n2_AVxvru8m",
        "outputId": "f54edd33-7b45-49c3-f041-b4b4a7969202"
      },
      "execution_count": 120,
      "outputs": [
        {
          "output_type": "stream",
          "name": "stdout",
          "text": [
            "hadyou eaten ?:True\n"
          ]
        }
      ]
    },
    {
      "cell_type": "code",
      "source": [
        "# = means assignment\n",
        "# == means comparing equality\n",
        "is_raining = False\n",
        "umbralla_available = False\n",
        "go_to_college = is_raining == umbralla_available # Cop\n",
        "go_to_college\n"
      ],
      "metadata": {
        "colab": {
          "base_uri": "https://localhost:8080/"
        },
        "id": "-aoNS3OhvD4m",
        "outputId": "d3442d9b-e2ef-4cd3-9335-5bce8eb34756"
      },
      "execution_count": 121,
      "outputs": [
        {
          "output_type": "execute_result",
          "data": {
            "text/plain": [
              "True"
            ]
          },
          "metadata": {},
          "execution_count": 121
        }
      ]
    },
    {
      "cell_type": "code",
      "source": [
        "a=4"
      ],
      "metadata": {
        "id": "YGgMjkBrxM34"
      },
      "execution_count": 123,
      "outputs": []
    },
    {
      "cell_type": "code",
      "source": [
        "g=5"
      ],
      "metadata": {
        "id": "8mx0C_HAxVso"
      },
      "execution_count": 124,
      "outputs": []
    },
    {
      "cell_type": "code",
      "source": [
        "g==a"
      ],
      "metadata": {
        "colab": {
          "base_uri": "https://localhost:8080/"
        },
        "id": "jm33a-jwxXzg",
        "outputId": "f4410850-6705-46ae-af4a-12a12450174d"
      },
      "execution_count": 126,
      "outputs": [
        {
          "output_type": "execute_result",
          "data": {
            "text/plain": [
              "True"
            ]
          },
          "metadata": {},
          "execution_count": 126
        }
      ]
    },
    {
      "cell_type": "code",
      "source": [
        "g<a"
      ],
      "metadata": {
        "colab": {
          "base_uri": "https://localhost:8080/"
        },
        "id": "pZya2aI0xejR",
        "outputId": "27056fc7-4bfd-4424-eade-1391abc7ccc9"
      },
      "execution_count": 127,
      "outputs": [
        {
          "output_type": "execute_result",
          "data": {
            "text/plain": [
              "False"
            ]
          },
          "metadata": {},
          "execution_count": 127
        }
      ]
    },
    {
      "cell_type": "code",
      "source": [],
      "metadata": {
        "id": "XteeXHe4xr3h"
      },
      "execution_count": null,
      "outputs": []
    }
  ]
}