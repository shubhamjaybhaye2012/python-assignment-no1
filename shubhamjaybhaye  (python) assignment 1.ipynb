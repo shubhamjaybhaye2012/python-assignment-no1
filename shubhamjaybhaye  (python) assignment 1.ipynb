{
 "cells": [
  {
   "cell_type": "code",
   "execution_count": 1,
   "id": "8c738bad-b631-473b-92d5-fb513ee53d89",
   "metadata": {},
   "outputs": [],
   "source": [
    "1. In the below elements which of them are values or an expression? eg:- values can be\n",
    "integer or string and expressions will be mathematical operator"
   ]
  },
  {
   "cell_type": "code",
   "execution_count": null,
   "id": "4887b28d",
   "metadata": {},
   "outputs": [],
   "source": [
    "ans:* is expression\n",
    "   'hello'is value\n",
    "    87.8 is value\n",
    "    - is expression\n",
    "    / is expression\n",
    "    + is expression\n",
    "    6 is value\n",
    "    "
   ]
  },
  {
   "cell_type": "code",
   "execution_count": null,
   "id": "c93c15b6",
   "metadata": {},
   "outputs": [],
   "source": [
    "2. What is the difference between string and variable?\n",
    "ans: string is type of data stored in variable\n",
    "     variable is used to  hold your data in your main memory."
   ]
  },
  {
   "cell_type": "code",
   "execution_count": null,
   "id": "4fcfcb7f",
   "metadata": {},
   "outputs": [],
   "source": [
    "3.Describe three different data types.\n",
    "Ans: 1) integer - example:1,25,67,89.\n",
    "     2) float   - example :23.6,55.56,2.04.\n",
    "     3) complex - example : 2+6J"
   ]
  },
  {
   "cell_type": "code",
   "execution_count": null,
   "id": "5f2bcdf0",
   "metadata": {},
   "outputs": [],
   "source": [
    "4. What is an expression made up of? What do all expressions do?\n",
    "Ans: expression is made up of operators which is interpreted to produce some other value."
   ]
  },
  {
   "cell_type": "code",
   "execution_count": null,
   "id": "a9165639",
   "metadata": {},
   "outputs": [],
   "source": [
    "5. This assignment statements, like spam = 10. What is the difference between an\n",
    "    expression and a statement?\n",
    "Ans:  An Expression always evaluates to a value and a statement does something, like creating a variable or displaying a value."
   ]
  },
  {
   "cell_type": "code",
   "execution_count": null,
   "id": "df308684",
   "metadata": {},
   "outputs": [],
   "source": [
    "6. After running the following code, what does the variable bacon contain?\n",
    "bacon = 22\n",
    "bacon + 1\n",
    "Ans: bacon contains 22"
   ]
  },
  {
   "cell_type": "code",
   "execution_count": null,
   "id": "ea2e0b4f",
   "metadata": {},
   "outputs": [],
   "source": [
    "7. What should the values of the following two terms be?\n",
    "  Ans : 'spam'+ 'spamspam'\n",
    "         'spam'*3\n",
    "            ans: spamspamspam'"
   ]
  },
  {
   "cell_type": "code",
   "execution_count": null,
   "id": "7c03fdaf",
   "metadata": {},
   "outputs": [],
   "source": [
    "8. Why is eggs a valid variable name while 100 is invalid?\n",
    "Ans: eggs is vairable and 100 is value its is not variable"
   ]
  },
  {
   "cell_type": "code",
   "execution_count": null,
   "id": "ca1a9f77",
   "metadata": {},
   "outputs": [],
   "source": [
    "9. What three functions can be used to get the integer, floating-point number, or string\n",
    "version of a value?\n",
    " ans : int() , float() , and str( )"
   ]
  },
  {
   "cell_type": "code",
   "execution_count": null,
   "id": "2a896a39",
   "metadata": {},
   "outputs": [],
   "source": [
    "10. Why does this expression cause an error? How can you fix it?\n",
    "Ans: 'i have eaten'+99+'burritos'\n",
    "    we have not mention data type here so we mentioning it to perform this code\n",
    "    'i have eaten'+ str(99) + 'burrritos'\n",
    "    output:'i have eaten99burrritos'"
   ]
  }
 ],
 "metadata": {
  "kernelspec": {
   "display_name": "Python 3 (ipykernel)",
   "language": "python",
   "name": "python3"
  },
  "language_info": {
   "codemirror_mode": {
    "name": "ipython",
    "version": 3
   },
   "file_extension": ".py",
   "mimetype": "text/x-python",
   "name": "python",
   "nbconvert_exporter": "python",
   "pygments_lexer": "ipython3",
   "version": "3.9.12"
  }
 },
 "nbformat": 4,
 "nbformat_minor": 5
}
